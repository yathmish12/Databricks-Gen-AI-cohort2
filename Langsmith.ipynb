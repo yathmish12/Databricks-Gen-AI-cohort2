{
 "cells": [
  {
   "cell_type": "code",
   "execution_count": 0,
   "metadata": {
    "application/vnd.databricks.v1+cell": {
     "cellMetadata": {
      "byteLimit": 2048000,
      "rowLimit": 10000
     },
     "inputWidgets": {},
     "nuid": "1b48adec-37f2-49b6-95fc-7b1320cbd2b0",
     "showTitle": false,
     "tableResultSettingsMap": {},
     "title": ""
    }
   },
   "outputs": [],
   "source": [
    "pip install langsmith"
   ]
  },
  {
   "cell_type": "code",
   "execution_count": 0,
   "metadata": {
    "application/vnd.databricks.v1+cell": {
     "cellMetadata": {
      "byteLimit": 2048000,
      "rowLimit": 10000
     },
     "inputWidgets": {},
     "nuid": "7119ee34-9bf1-481b-9ef7-ead9fcaa51bb",
     "showTitle": false,
     "tableResultSettingsMap": {},
     "title": ""
    }
   },
   "outputs": [],
   "source": [
    "from mlflow import MlflowClient\n",
    "\n",
    "# Initialize the MLflow Client\n",
    "client = MlflowClient()\n",
    "\n",
    "# Define a simple function to process text\n",
    "def simple_text_processor(text):\n",
    "    return text.upper()\n",
    "\n",
    "# Example input\n",
    "input_text = \"hello, langsmith!\"\n",
    "\n",
    "# Start a new trace (root span)\n",
    "root_span = client.start_trace(\n",
    "    name=\"simple_text_processor_trace\",\n",
    "    inputs={\"text\": input_text}\n",
    ")\n",
    "\n",
    "# Process the text\n",
    "output_text = simple_text_processor(input_text)\n",
    "\n",
    "# End the trace\n",
    "client.end_trace(request_id=root_span.request_id)\n",
    "\n",
    "# Print the result\n",
    "print(\"Processed Text:\", output_text)"
   ]
  }
 ],
 "metadata": {
  "application/vnd.databricks.v1+notebook": {
   "computePreferences": null,
   "dashboards": [],
   "environmentMetadata": {
    "base_environment": "",
    "environment_version": "3"
   },
   "inputWidgetPreferences": null,
   "language": "python",
   "notebookMetadata": {
    "pythonIndentUnit": 4
   },
   "notebookName": "Langsmith",
   "widgets": {}
  },
  "language_info": {
   "name": "python"
  }
 },
 "nbformat": 4,
 "nbformat_minor": 0
}
